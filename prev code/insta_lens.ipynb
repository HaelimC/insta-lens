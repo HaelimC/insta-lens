{
 "cells": [
  {
   "cell_type": "code",
   "execution_count": 2,
   "metadata": {},
   "outputs": [],
   "source": [
    "%pip install selenium\n",
    "%pip install webdriver-manager\n"
   ]
  },
  {
   "cell_type": "code",
   "execution_count": 7,
   "metadata": {},
   "outputs": [],
   "source": [
    "from selenium import webdriver\n",
    "from selenium.webdriver.chrome.service import Service\n",
    "from webdriver_manager.chrome import ChromeDriverManager\n",
    "from selenium.webdriver.common.by import By\n",
    "from selenium.webdriver.common.keys import Keys\n",
    "from selenium.webdriver.support.ui import WebDriverWait\n",
    "from selenium.webdriver.support import expected_conditions as EC\n",
    "from selenium.webdriver.chrome.options import Options\n",
    "from selenium.webdriver import ActionChains\n",
    "import time"
   ]
  },
  {
   "cell_type": "code",
   "execution_count": 8,
   "metadata": {},
   "outputs": [],
   "source": [
    "#테스트할 인스타그램 계정 정보\n",
    "username = '5steamtest'\n",
    "password = 'testTest1!'"
   ]
  },
  {
   "cell_type": "code",
   "execution_count": 9,
   "metadata": {},
   "outputs": [],
   "source": [
    "# Chrome 드라이버 초기화 및 설정\n",
    "def init_driver():\n",
    "    chrome_options = Options()\n",
    "    chrome_options.add_argument(\"user-agent=Mozilla/5.0 (Macintosh; Intel Mac OS X 10_15_4) AppleWebKit/537.36 (KHTML, like Gecko) Chrome/83.0.4103.97 Safari/537.36\")\n",
    "    driver = webdriver.Chrome(service=Service(ChromeDriverManager().install()), options=chrome_options)\n",
    "    return driver"
   ]
  },
  {
   "cell_type": "code",
   "execution_count": 10,
   "metadata": {},
   "outputs": [],
   "source": [
    "# 인스타그램 로그인\n",
    "def insta_login(driver, username, password):\n",
    "    driver.get('https://www.instagram.com/accounts/login/')\n",
    "    \n",
    "    # 로그인 대기\n",
    "    WebDriverWait(driver, 10).until(EC.presence_of_element_located((By.NAME, 'username')))\n",
    "    username_input = driver.find_element(By.NAME, 'username')\n",
    "    password_input = driver.find_element(By.NAME, 'password')\n",
    "    \n",
    "    # 로그인 정보 입력 및 로그인 버튼 클릭\n",
    "    username_input.send_keys(username)\n",
    "    password_input.send_keys(password)\n",
    "    password_input.send_keys(Keys.RETURN)\n",
    "    time.sleep(5)  # 페이지 로드 대기"
   ]
  },
  {
   "cell_type": "code",
   "execution_count": 11,
   "metadata": {},
   "outputs": [],
   "source": [
    "# 사용자 프로필 페이지로 이동\n",
    "def insta_search_user(driver, user_account):\n",
    "    profile_url = f\"https://www.instagram.com/{user_account}/\"\n",
    "    driver.get(profile_url)\n",
    "    time.sleep(10)  # 프로필 로드 대기"
   ]
  },
  {
   "cell_type": "code",
   "execution_count": 62,
   "metadata": {},
   "outputs": [],
   "source": [
    "# 최근 n개 게시물에서 좋아요를 한 사용자 목록 가져오기\n",
    "def get_likes(driver, contents_num, username):\n",
    "    #posts = driver.find_elements(By.XPATH, '//a[contains(@href, \"/p/\") or contains(@href, \"/reels/\")]')\n",
    "    posts = driver.find_elements(By.XPATH, '//a[contains(@class, \"x1i10hfl xjbqb8w x1ejq31n xd10rxx x1sy0etr x17r0tee x972fbf xcfux6l x1qhh985 xm0m39n x9f619 x1ypdohk xt0psk2 xe8uvvx xdj266r x11i5rnm xat24cr x1mh8g0r xexx8yu x4uap5 x18d9i69 xkhd6sd x16tdsg8 x1hl2dhg xggy1nq x1a2a7pz _a6hd\")]')    \n",
    "    post_links = []\n",
    "    for post in posts[:contents_num]:\n",
    "        link = post.get_attribute('href')\n",
    "        if \"/p/\" in link or \"/reel/\" in link:\n",
    "            link = link.replace(username+\"/\", \"\").replace(\"/reel/\", \"/p/\")\n",
    "            post_links.append(link)\n",
    "    \n",
    "    #post_links = [post.get_attribute('href').replace(username+\"/\", \"\").replace(\"/reel/\", \"/p/\") for post in posts[:contents_num]]  # 최근 게시물 5개 링크 저장\n",
    "    #for post in post_links:\n",
    "    #    print(post)\n",
    "    \n",
    "    # 사용자 아이디 수집용 dict\n",
    "    like_users = dict()\n",
    "\n",
    "    if not post_links:\n",
    "        print(f\"게시글이 없습니다.\")\n",
    "        return \n",
    "\n",
    "    for index, post_url in enumerate(post_links, start=1):\n",
    "        # 좋아요 페이지로 이동\n",
    "        driver.get(f'{post_url}liked_by/')\n",
    "        time.sleep(2)  # 로딩 후 대기\n",
    "        try:\n",
    "            last_height = driver.execute_script(\"return document.body.scrollHeight\")\n",
    "            \n",
    "            while True:\n",
    "                # 좋아요 사용자 리스트 가져오기\n",
    "                users = driver.find_elements(By.XPATH, '//span[contains(@class, \"_ap3a _aaco _aacw _aacx _aad7 _aade\")]')\n",
    "                for user in users:\n",
    "                    like_users[user.text] = like_users.get(user.text, 0) + 1\n",
    "                # 스크롤 내리기\n",
    "                driver.execute_script(\"window.scrollTo(0, document.body.scrollHeight);\")\n",
    "                \n",
    "                # 스크롤 후 대기\n",
    "                time.sleep(1)\n",
    "\n",
    "                # 새로운 높이 계산\n",
    "                new_height = driver.execute_script(\"return document.body.scrollHeight\")\n",
    "                \n",
    "                # 마지막 높이와 비교하여 더 이상 스크롤할 수 없으면 종료\n",
    "                if new_height == last_height:\n",
    "                    break\n",
    "                last_height = new_height\n",
    "\n",
    "            # 좋아요 사용자 출력\n",
    "            #print(f\"Post {index} URL: {post_url} - Liked Users: {', '.join(list(like_users)[:len(like_users)])}\")\n",
    "            print(f\"Post {index} URL: {post_url} - Liked Users: {', '.join(f'{key}: {value}' for key, value in like_users.items())}\")         \n",
    "        except Exception as NoLikedList:\n",
    "            print(f\"좋아요 사용자 리스트를 찾는 데 실패했습니다: {NoLikedList}\")\n",
    "    return like_users"
   ]
  },
  {
   "cell_type": "markdown",
   "metadata": {},
   "source": [
    "### 메인 함수\n",
    "TODO list 확인"
   ]
  },
  {
   "cell_type": "code",
   "execution_count": 66,
   "metadata": {},
   "outputs": [
    {
     "name": "stdout",
     "output_type": "stream",
     "text": [
      "Post 1 URL: https://www.instagram.com/p/C9shtUsBD8t/ - Liked Users: ye.on._.06: 1, iam_ringkim: 1, _weekyear: 1, daye.__.n: 1, yunsrcd: 1, ieejyn: 1, zeonghye: 1, haeng_inthere: 1, kimchxxze: 1, seohyuuuuuun: 1, kmymyka: 1, r.hyej: 1, _dongni: 1, axxle.ah: 1, zwinhe: 1, mineral_ouo: 1, o0v0b: 1, cay_plo: 1, ssoo_jj: 1, am.3.00: 1\n",
      "Post 2 URL: https://www.instagram.com/p/C7qsvF5JHta/ - Liked Users: ye.on._.06: 2, iam_ringkim: 1, _weekyear: 2, daye.__.n: 1, yunsrcd: 2, ieejyn: 2, zeonghye: 1, haeng_inthere: 1, kimchxxze: 1, seohyuuuuuun: 1, kmymyka: 2, r.hyej: 2, _dongni: 1, axxle.ah: 1, zwinhe: 2, mineral_ouo: 1, o0v0b: 2, cay_plo: 1, ssoo_jj: 1, am.3.00: 1, meuno._.o: 1, hye_rin811: 1, je_seong2: 1, ju_hee2_2: 1, seoha1203: 1, mellow_shhong: 1, yo_zheng21: 1, jixhyunie: 1, kk_imny: 1, haru_film_bp: 1, neejugram: 1, doublej_k: 1, ttkkkxx: 1, gain.hair: 1, merry_go_round_cake_: 1, dawngiraffe: 1, erin9751: 1, gyu_0212: 1, 2_taek: 1, y_driosn: 1, water_of_dawn: 1\n",
      "Post 3 URL: https://www.instagram.com/p/C50EWmGrFEA/ - Liked Users: ye.on._.06: 3, iam_ringkim: 1, _weekyear: 2, daye.__.n: 2, yunsrcd: 2, ieejyn: 3, zeonghye: 1, haeng_inthere: 2, kimchxxze: 1, seohyuuuuuun: 2, kmymyka: 3, r.hyej: 3, _dongni: 1, axxle.ah: 1, zwinhe: 3, mineral_ouo: 1, o0v0b: 3, cay_plo: 1, ssoo_jj: 1, am.3.00: 1, meuno._.o: 1, hye_rin811: 2, je_seong2: 2, ju_hee2_2: 1, seoha1203: 2, mellow_shhong: 1, yo_zheng21: 2, jixhyunie: 2, kk_imny: 1, haru_film_bp: 2, neejugram: 2, doublej_k: 1, ttkkkxx: 1, gain.hair: 2, merry_go_round_cake_: 1, dawngiraffe: 2, erin9751: 1, gyu_0212: 1, 2_taek: 1, y_driosn: 1, water_of_dawn: 2, dajoyee: 1, shxi1234: 1, j_syoooun: 1, dessert39.anmyeondo: 1, angelicapatriciabarbosa: 1, hyuni_yeh: 1, euny_grace4: 1, kevin_wbwkz: 1, proofinder: 1, jph0wh: 1\n",
      "Post 4 URL: https://www.instagram.com/p/Ctm1plIua6j/ - Liked Users: ye.on._.06: 4, iam_ringkim: 1, _weekyear: 2, daye.__.n: 2, yunsrcd: 2, ieejyn: 4, zeonghye: 2, haeng_inthere: 3, kimchxxze: 1, seohyuuuuuun: 3, kmymyka: 4, r.hyej: 4, _dongni: 1, axxle.ah: 1, zwinhe: 4, mineral_ouo: 1, o0v0b: 4, cay_plo: 1, ssoo_jj: 1, am.3.00: 1, meuno._.o: 2, hye_rin811: 2, je_seong2: 2, ju_hee2_2: 1, seoha1203: 3, mellow_shhong: 1, yo_zheng21: 2, jixhyunie: 3, kk_imny: 1, haru_film_bp: 3, neejugram: 3, doublej_k: 1, ttkkkxx: 2, gain.hair: 2, merry_go_round_cake_: 1, dawngiraffe: 3, erin9751: 1, gyu_0212: 1, 2_taek: 1, y_driosn: 1, water_of_dawn: 2, dajoyee: 1, shxi1234: 1, j_syoooun: 1, dessert39.anmyeondo: 2, angelicapatriciabarbosa: 1, hyuni_yeh: 1, euny_grace4: 1, kevin_wbwkz: 1, proofinder: 1, jph0wh: 1, graceeaston: 1, lovive.kr: 1, oes3793: 1, srooongs_: 1, hoonhoon_hotteok: 1, gullcentwoolfe1987: 1, dmitriy9sqd: 1, seung._.jong: 1, mcdillguhelvik3jh: 1, qhgxrufduj244: 1\n",
      "Post 5 URL: https://www.instagram.com/p/Cm1RCHhB1a3/ - Liked Users: ye.on._.06: 4, iam_ringkim: 1, _weekyear: 2, daye.__.n: 2, yunsrcd: 2, ieejyn: 4, zeonghye: 2, haeng_inthere: 3, kimchxxze: 1, seohyuuuuuun: 3, kmymyka: 5, r.hyej: 4, _dongni: 1, axxle.ah: 1, zwinhe: 5, mineral_ouo: 1, o0v0b: 4, cay_plo: 1, ssoo_jj: 1, am.3.00: 1, meuno._.o: 2, hye_rin811: 2, je_seong2: 2, ju_hee2_2: 1, seoha1203: 4, mellow_shhong: 1, yo_zheng21: 2, jixhyunie: 3, kk_imny: 1, haru_film_bp: 4, neejugram: 4, doublej_k: 1, ttkkkxx: 2, gain.hair: 2, merry_go_round_cake_: 1, dawngiraffe: 4, erin9751: 1, gyu_0212: 1, 2_taek: 1, y_driosn: 1, water_of_dawn: 2, dajoyee: 1, shxi1234: 1, j_syoooun: 2, dessert39.anmyeondo: 3, angelicapatriciabarbosa: 1, hyuni_yeh: 1, euny_grace4: 1, kevin_wbwkz: 1, proofinder: 1, jph0wh: 1, graceeaston: 1, lovive.kr: 2, oes3793: 1, srooongs_: 1, hoonhoon_hotteok: 1, gullcentwoolfe1987: 1, dmitriy9sqd: 1, seung._.jong: 2, mcdillguhelvik3jh: 1, qhgxrufduj244: 1, lumkrfzeu: 1, ilikegymchalk: 1, figma_lion: 1, kahucondfast1984: 1, omerarul1986: 1, anexxaver1982: 1, icheisyntdal1974: 1, feiderrizvico: 1, cheliicjurov: 1, ersidexi4: 1, he_0ung_: 1, eupcheonri_busan_choeup: 1, img.bianan: 1, clasenprazec1976: 1\n",
      "Post 6 URL: https://www.instagram.com/p/Cl7ZBq9vtQo/ - Liked Users: ye.on._.06: 4, iam_ringkim: 1, _weekyear: 3, daye.__.n: 3, yunsrcd: 2, ieejyn: 4, zeonghye: 2, haeng_inthere: 4, kimchxxze: 1, seohyuuuuuun: 4, kmymyka: 5, r.hyej: 5, _dongni: 1, axxle.ah: 1, zwinhe: 6, mineral_ouo: 1, o0v0b: 4, cay_plo: 1, ssoo_jj: 1, am.3.00: 1, meuno._.o: 2, hye_rin811: 2, je_seong2: 3, ju_hee2_2: 1, seoha1203: 5, mellow_shhong: 1, yo_zheng21: 2, jixhyunie: 4, kk_imny: 2, haru_film_bp: 5, neejugram: 5, doublej_k: 1, ttkkkxx: 2, gain.hair: 2, merry_go_round_cake_: 1, dawngiraffe: 5, erin9751: 2, gyu_0212: 1, 2_taek: 1, y_driosn: 1, water_of_dawn: 2, dajoyee: 1, shxi1234: 1, j_syoooun: 2, dessert39.anmyeondo: 3, angelicapatriciabarbosa: 1, hyuni_yeh: 1, euny_grace4: 1, kevin_wbwkz: 1, proofinder: 1, jph0wh: 1, graceeaston: 1, lovive.kr: 3, oes3793: 1, srooongs_: 1, hoonhoon_hotteok: 1, gullcentwoolfe1987: 1, dmitriy9sqd: 1, seung._.jong: 2, mcdillguhelvik3jh: 1, qhgxrufduj244: 1, lumkrfzeu: 1, ilikegymchalk: 2, figma_lion: 1, kahucondfast1984: 1, omerarul1986: 1, anexxaver1982: 1, icheisyntdal1974: 1, feiderrizvico: 1, cheliicjurov: 1, ersidexi4: 1, he_0ung_: 2, eupcheonri_busan_choeup: 2, img.bianan: 1, clasenprazec1976: 1, crazygrill0311: 1, research3340: 1, nice__ji: 1, yeongjin_01_28: 1\n",
      "Post 7 URL: https://www.instagram.com/p/CjYCpzCp6N4/ - Liked Users: ye.on._.06: 4, iam_ringkim: 1, _weekyear: 3, daye.__.n: 3, yunsrcd: 2, ieejyn: 5, zeonghye: 2, haeng_inthere: 4, kimchxxze: 1, seohyuuuuuun: 4, kmymyka: 5, r.hyej: 5, _dongni: 1, axxle.ah: 1, zwinhe: 6, mineral_ouo: 1, o0v0b: 4, cay_plo: 1, ssoo_jj: 1, am.3.00: 1, meuno._.o: 2, hye_rin811: 2, je_seong2: 3, ju_hee2_2: 1, seoha1203: 6, mellow_shhong: 1, yo_zheng21: 2, jixhyunie: 5, kk_imny: 2, haru_film_bp: 6, neejugram: 6, doublej_k: 1, ttkkkxx: 2, gain.hair: 2, merry_go_round_cake_: 1, dawngiraffe: 6, erin9751: 2, gyu_0212: 1, 2_taek: 1, y_driosn: 1, water_of_dawn: 2, dajoyee: 1, shxi1234: 1, j_syoooun: 2, dessert39.anmyeondo: 3, angelicapatriciabarbosa: 1, hyuni_yeh: 1, euny_grace4: 1, kevin_wbwkz: 1, proofinder: 1, jph0wh: 1, graceeaston: 1, lovive.kr: 4, oes3793: 1, srooongs_: 1, hoonhoon_hotteok: 1, gullcentwoolfe1987: 1, dmitriy9sqd: 1, seung._.jong: 2, mcdillguhelvik3jh: 1, qhgxrufduj244: 1, lumkrfzeu: 1, ilikegymchalk: 3, figma_lion: 1, kahucondfast1984: 1, omerarul1986: 1, anexxaver1982: 1, icheisyntdal1974: 1, feiderrizvico: 1, cheliicjurov: 1, ersidexi4: 1, he_0ung_: 3, eupcheonri_busan_choeup: 2, img.bianan: 1, clasenprazec1976: 1, crazygrill0311: 1, research3340: 1, nice__ji: 1, yeongjin_01_28: 1, mungmung_table: 1, lieto_firenze: 1, nummaa0001: 1, yoonbi_0122: 1\n",
      "Post 8 URL: https://www.instagram.com/p/ChuUZ2vJDar/ - Liked Users: ye.on._.06: 4, iam_ringkim: 1, _weekyear: 3, daye.__.n: 3, yunsrcd: 2, ieejyn: 6, zeonghye: 3, haeng_inthere: 4, kimchxxze: 1, seohyuuuuuun: 4, kmymyka: 5, r.hyej: 6, _dongni: 1, axxle.ah: 1, zwinhe: 7, mineral_ouo: 1, o0v0b: 5, cay_plo: 1, ssoo_jj: 1, am.3.00: 1, meuno._.o: 2, hye_rin811: 2, je_seong2: 3, ju_hee2_2: 1, seoha1203: 7, mellow_shhong: 1, yo_zheng21: 2, jixhyunie: 6, kk_imny: 3, haru_film_bp: 6, neejugram: 6, doublej_k: 1, ttkkkxx: 2, gain.hair: 2, merry_go_round_cake_: 1, dawngiraffe: 7, erin9751: 2, gyu_0212: 2, 2_taek: 1, y_driosn: 1, water_of_dawn: 2, dajoyee: 1, shxi1234: 1, j_syoooun: 3, dessert39.anmyeondo: 3, angelicapatriciabarbosa: 1, hyuni_yeh: 1, euny_grace4: 1, kevin_wbwkz: 1, proofinder: 1, jph0wh: 1, graceeaston: 1, lovive.kr: 5, oes3793: 1, srooongs_: 2, hoonhoon_hotteok: 1, gullcentwoolfe1987: 1, dmitriy9sqd: 1, seung._.jong: 2, mcdillguhelvik3jh: 1, qhgxrufduj244: 1, lumkrfzeu: 2, ilikegymchalk: 4, figma_lion: 1, kahucondfast1984: 1, omerarul1986: 1, anexxaver1982: 1, icheisyntdal1974: 1, feiderrizvico: 1, cheliicjurov: 1, ersidexi4: 1, he_0ung_: 3, eupcheonri_busan_choeup: 2, img.bianan: 1, clasenprazec1976: 1, crazygrill0311: 1, research3340: 1, nice__ji: 1, yeongjin_01_28: 1, mungmung_table: 2, lieto_firenze: 2, nummaa0001: 1, yoonbi_0122: 1, sum__s_: 1, xinamon: 1, se_hyun618: 1, do__yun__0: 1, owen_416969: 1\n",
      "Post 9 URL: https://www.instagram.com/p/CfB45BJLFd6/ - Liked Users: ye.on._.06: 4, iam_ringkim: 1, _weekyear: 3, daye.__.n: 4, yunsrcd: 2, ieejyn: 7, zeonghye: 4, haeng_inthere: 4, kimchxxze: 1, seohyuuuuuun: 5, kmymyka: 5, r.hyej: 7, _dongni: 1, axxle.ah: 1, zwinhe: 8, mineral_ouo: 1, o0v0b: 6, cay_plo: 1, ssoo_jj: 1, am.3.00: 1, meuno._.o: 2, hye_rin811: 2, je_seong2: 3, ju_hee2_2: 1, seoha1203: 8, mellow_shhong: 1, yo_zheng21: 2, jixhyunie: 7, kk_imny: 4, haru_film_bp: 6, neejugram: 6, doublej_k: 1, ttkkkxx: 3, gain.hair: 2, merry_go_round_cake_: 1, dawngiraffe: 8, erin9751: 3, gyu_0212: 3, 2_taek: 1, y_driosn: 1, water_of_dawn: 2, dajoyee: 1, shxi1234: 1, j_syoooun: 3, dessert39.anmyeondo: 3, angelicapatriciabarbosa: 1, hyuni_yeh: 1, euny_grace4: 1, kevin_wbwkz: 1, proofinder: 2, jph0wh: 1, graceeaston: 1, lovive.kr: 6, oes3793: 1, srooongs_: 3, hoonhoon_hotteok: 1, gullcentwoolfe1987: 1, dmitriy9sqd: 1, seung._.jong: 2, mcdillguhelvik3jh: 1, qhgxrufduj244: 1, lumkrfzeu: 3, ilikegymchalk: 5, figma_lion: 1, kahucondfast1984: 1, omerarul1986: 1, anexxaver1982: 1, icheisyntdal1974: 1, feiderrizvico: 1, cheliicjurov: 1, ersidexi4: 1, he_0ung_: 3, eupcheonri_busan_choeup: 2, img.bianan: 1, clasenprazec1976: 1, crazygrill0311: 1, research3340: 1, nice__ji: 1, yeongjin_01_28: 1, mungmung_table: 3, lieto_firenze: 3, nummaa0001: 1, yoonbi_0122: 1, sum__s_: 2, xinamon: 1, se_hyun618: 1, do__yun__0: 2, owen_416969: 1, udaunii: 1, bello_qq: 1, si_nae2: 1, tange.erine: 1, jaew0___0: 1, nam.seungyoon: 1, iluvallsport: 1, 99_0113: 1, qaz11299: 1, jeong.yu_jin: 1, tennis_sangs: 1, sungil_world: 1, lullului: 1, isohee_0: 1, posh_hyxjxn: 1\n",
      "Post 10 URL: https://www.instagram.com/p/Cb75hNbJlE7/ - Liked Users: ye.on._.06: 4, iam_ringkim: 1, _weekyear: 4, daye.__.n: 4, yunsrcd: 2, ieejyn: 7, zeonghye: 5, haeng_inthere: 4, kimchxxze: 1, seohyuuuuuun: 6, kmymyka: 5, r.hyej: 8, _dongni: 2, axxle.ah: 1, zwinhe: 9, mineral_ouo: 1, o0v0b: 7, cay_plo: 1, ssoo_jj: 1, am.3.00: 1, meuno._.o: 2, hye_rin811: 2, je_seong2: 3, ju_hee2_2: 1, seoha1203: 9, mellow_shhong: 1, yo_zheng21: 2, jixhyunie: 8, kk_imny: 5, haru_film_bp: 7, neejugram: 6, doublej_k: 1, ttkkkxx: 3, gain.hair: 2, merry_go_round_cake_: 1, dawngiraffe: 9, erin9751: 4, gyu_0212: 4, 2_taek: 1, y_driosn: 1, water_of_dawn: 2, dajoyee: 1, shxi1234: 1, j_syoooun: 3, dessert39.anmyeondo: 3, angelicapatriciabarbosa: 1, hyuni_yeh: 1, euny_grace4: 1, kevin_wbwkz: 1, proofinder: 3, jph0wh: 2, graceeaston: 1, lovive.kr: 6, oes3793: 1, srooongs_: 4, hoonhoon_hotteok: 1, gullcentwoolfe1987: 1, dmitriy9sqd: 1, seung._.jong: 2, mcdillguhelvik3jh: 1, qhgxrufduj244: 1, lumkrfzeu: 3, ilikegymchalk: 6, figma_lion: 1, kahucondfast1984: 1, omerarul1986: 1, anexxaver1982: 1, icheisyntdal1974: 1, feiderrizvico: 1, cheliicjurov: 1, ersidexi4: 1, he_0ung_: 4, eupcheonri_busan_choeup: 2, img.bianan: 1, clasenprazec1976: 1, crazygrill0311: 1, research3340: 1, nice__ji: 2, yeongjin_01_28: 1, mungmung_table: 3, lieto_firenze: 4, nummaa0001: 1, yoonbi_0122: 1, sum__s_: 2, xinamon: 1, se_hyun618: 1, do__yun__0: 3, owen_416969: 1, udaunii: 1, bello_qq: 2, si_nae2: 2, tange.erine: 2, jaew0___0: 1, nam.seungyoon: 2, iluvallsport: 1, 99_0113: 1, qaz11299: 1, jeong.yu_jin: 1, tennis_sangs: 2, sungil_world: 1, lullului: 1, isohee_0: 1, posh_hyxjxn: 1, chen.jae: 1, munee_e: 1, ji_e.s: 1, ya_autiful: 1, 162.s.s: 1, hiyaquin: 1, zee.eji: 1, sozm_sy: 1, rgbphotostudio_bp: 1\n"
     ]
    }
   ],
   "source": [
    "def main():\n",
    "    # 검색할 사용자 계정 입력\n",
    "    # TODO: 프론트엔드와 연결해서 사용자 입력 받는 걸로 수정\n",
    "    user_account = 'seoha1203' #좋아요+게시글+릴스 계정\n",
    "    #user_account = 'rmqdid' #좋아요+게시글 계정\n",
    "    #user_account = '5steamtest' #좋아요 없는 계정\n",
    "    #user_account = '5steam0925' #게시글 없는 계정\n",
    "\n",
    "    # 드라이버 초기화 및 로그인\n",
    "    driver = init_driver()\n",
    "    insta_login(driver, username, password)\n",
    "\n",
    "    # 사용자 계정 검색\n",
    "    insta_search_user(driver, user_account)\n",
    "    # 게시물 제한 필요\n",
    "    contents_num = 10 \n",
    "    \n",
    "    # 최근 게시물에서 좋아요 및 댓글을 단 사용자 목록 가져오기  \n",
    "    liked_users = get_likes(driver, contents_num, user_account)\n",
    "    #for key, value in liked_users.items():\n",
    "    #    print(f'{key}: {value}')\n",
    "    # TODO: 시각화 할 때 user_account 는 걸러야함\n",
    "    \n",
    "    # 완료 후 드라이버 종료\n",
    "    time.sleep(5)  # 확인용 대기\n",
    "    driver.quit()  # 드라이버 종료\n",
    "\n",
    "if __name__ == \"__main__\":\n",
    "    main()"
   ]
  },
  {
   "cell_type": "markdown",
   "metadata": {},
   "source": [
    "----"
   ]
  }
 ],
 "metadata": {
  "kernelspec": {
   "display_name": "Python 3",
   "language": "python",
   "name": "python3"
  },
  "language_info": {
   "codemirror_mode": {
    "name": "ipython",
    "version": 3
   },
   "file_extension": ".py",
   "mimetype": "text/x-python",
   "name": "python",
   "nbconvert_exporter": "python",
   "pygments_lexer": "ipython3",
   "version": "3.12.7"
  }
 },
 "nbformat": 4,
 "nbformat_minor": 2
}
