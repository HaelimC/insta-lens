{
 "cells": [
  {
   "cell_type": "code",
   "execution_count": 5,
   "metadata": {},
   "outputs": [
    {
     "name": "stdout",
     "output_type": "stream",
     "text": [
      "Defaulting to user installation because normal site-packages is not writeable\n",
      "Collecting chromedriver\n",
      "  Downloading chromedriver-2.24.1-py2.py3-none-any.whl.metadata (304 bytes)\n",
      "Downloading chromedriver-2.24.1-py2.py3-none-any.whl (14.3 MB)\n",
      "   ---------------------------------------- 0.0/14.3 MB ? eta -:--:--\n",
      "   --------- ------------------------------ 3.4/14.3 MB 18.3 MB/s eta 0:00:01\n",
      "   ---------------------------- ----------- 10.2/14.3 MB 25.5 MB/s eta 0:00:01\n",
      "   ---------------------------------------- 14.3/14.3 MB 24.3 MB/s eta 0:00:00\n",
      "Installing collected packages: chromedriver\n",
      "Successfully installed chromedriver-2.24.1\n"
     ]
    }
   ],
   "source": [
    "!pip install chromedriver"
   ]
  },
  {
   "cell_type": "code",
   "execution_count": 3,
   "metadata": {},
   "outputs": [
    {
     "name": "stdout",
     "output_type": "stream",
     "text": [
      "Defaulting to user installation because normal site-packages is not writeable\n",
      "Collecting selenium\n",
      "  Downloading selenium-4.25.0-py3-none-any.whl.metadata (7.1 kB)\n",
      "Requirement already satisfied: urllib3<3,>=1.26 in c:\\users\\is041\\appdata\\local\\packages\\pythonsoftwarefoundation.python.3.12_qbz5n2kfra8p0\\localcache\\local-packages\\python312\\site-packages (from urllib3[socks]<3,>=1.26->selenium) (2.2.3)\n",
      "Collecting trio~=0.17 (from selenium)\n",
      "  Downloading trio-0.26.2-py3-none-any.whl.metadata (8.6 kB)\n",
      "Collecting trio-websocket~=0.9 (from selenium)\n",
      "  Downloading trio_websocket-0.11.1-py3-none-any.whl.metadata (4.7 kB)\n",
      "Requirement already satisfied: certifi>=2021.10.8 in c:\\users\\is041\\appdata\\local\\packages\\pythonsoftwarefoundation.python.3.12_qbz5n2kfra8p0\\localcache\\local-packages\\python312\\site-packages (from selenium) (2024.8.30)\n",
      "Collecting typing_extensions~=4.9 (from selenium)\n",
      "  Downloading typing_extensions-4.12.2-py3-none-any.whl.metadata (3.0 kB)\n",
      "Requirement already satisfied: websocket-client~=1.8 in c:\\users\\is041\\appdata\\local\\packages\\pythonsoftwarefoundation.python.3.12_qbz5n2kfra8p0\\localcache\\local-packages\\python312\\site-packages (from selenium) (1.8.0)\n",
      "Requirement already satisfied: attrs>=23.2.0 in c:\\users\\is041\\appdata\\local\\packages\\pythonsoftwarefoundation.python.3.12_qbz5n2kfra8p0\\localcache\\local-packages\\python312\\site-packages (from trio~=0.17->selenium) (24.2.0)\n",
      "Collecting sortedcontainers (from trio~=0.17->selenium)\n",
      "  Downloading sortedcontainers-2.4.0-py2.py3-none-any.whl.metadata (10 kB)\n",
      "Requirement already satisfied: idna in c:\\users\\is041\\appdata\\local\\packages\\pythonsoftwarefoundation.python.3.12_qbz5n2kfra8p0\\localcache\\local-packages\\python312\\site-packages (from trio~=0.17->selenium) (3.10)\n",
      "Collecting outcome (from trio~=0.17->selenium)\n",
      "  Downloading outcome-1.3.0.post0-py2.py3-none-any.whl.metadata (2.6 kB)\n",
      "Requirement already satisfied: sniffio>=1.3.0 in c:\\users\\is041\\appdata\\local\\packages\\pythonsoftwarefoundation.python.3.12_qbz5n2kfra8p0\\localcache\\local-packages\\python312\\site-packages (from trio~=0.17->selenium) (1.3.1)\n",
      "Requirement already satisfied: cffi>=1.14 in c:\\users\\is041\\appdata\\local\\packages\\pythonsoftwarefoundation.python.3.12_qbz5n2kfra8p0\\localcache\\local-packages\\python312\\site-packages (from trio~=0.17->selenium) (1.17.1)\n",
      "Collecting wsproto>=0.14 (from trio-websocket~=0.9->selenium)\n",
      "  Downloading wsproto-1.2.0-py3-none-any.whl.metadata (5.6 kB)\n",
      "Collecting pysocks!=1.5.7,<2.0,>=1.5.6 (from urllib3[socks]<3,>=1.26->selenium)\n",
      "  Downloading PySocks-1.7.1-py3-none-any.whl.metadata (13 kB)\n",
      "Requirement already satisfied: pycparser in c:\\users\\is041\\appdata\\local\\packages\\pythonsoftwarefoundation.python.3.12_qbz5n2kfra8p0\\localcache\\local-packages\\python312\\site-packages (from cffi>=1.14->trio~=0.17->selenium) (2.22)\n",
      "Requirement already satisfied: h11<1,>=0.9.0 in c:\\users\\is041\\appdata\\local\\packages\\pythonsoftwarefoundation.python.3.12_qbz5n2kfra8p0\\localcache\\local-packages\\python312\\site-packages (from wsproto>=0.14->trio-websocket~=0.9->selenium) (0.14.0)\n",
      "Downloading selenium-4.25.0-py3-none-any.whl (9.7 MB)\n",
      "   ---------------------------------------- 0.0/9.7 MB ? eta -:--:--\n",
      "   ----------------------- ---------------- 5.8/9.7 MB 32.0 MB/s eta 0:00:01\n",
      "   ---------------------------------------- 9.7/9.7 MB 28.7 MB/s eta 0:00:00\n",
      "Downloading trio-0.26.2-py3-none-any.whl (475 kB)\n",
      "Downloading trio_websocket-0.11.1-py3-none-any.whl (17 kB)\n",
      "Downloading typing_extensions-4.12.2-py3-none-any.whl (37 kB)\n",
      "Downloading PySocks-1.7.1-py3-none-any.whl (16 kB)\n",
      "Downloading wsproto-1.2.0-py3-none-any.whl (24 kB)\n",
      "Downloading outcome-1.3.0.post0-py2.py3-none-any.whl (10 kB)\n",
      "Downloading sortedcontainers-2.4.0-py2.py3-none-any.whl (29 kB)\n",
      "Installing collected packages: sortedcontainers, wsproto, typing_extensions, pysocks, outcome, trio, trio-websocket, selenium\n",
      "Successfully installed outcome-1.3.0.post0 pysocks-1.7.1 selenium-4.25.0 sortedcontainers-2.4.0 trio-0.26.2 trio-websocket-0.11.1 typing_extensions-4.12.2 wsproto-1.2.0\n"
     ]
    }
   ],
   "source": [
    "!pip install selenium"
   ]
  },
  {
   "cell_type": "code",
   "execution_count": 8,
   "metadata": {},
   "outputs": [],
   "source": [
    "from selenium import webdriver\n",
    "from selenium.webdriver.common.by import By\n",
    "from selenium.webdriver.common.keys import Keys\n",
    "import time"
   ]
  },
  {
   "cell_type": "code",
   "execution_count": 37,
   "metadata": {},
   "outputs": [],
   "source": [
    "# 인스타그램 로그인 함수\n",
    "def instagram_login(driver, username, password):\n",
    "    driver.get('https://www.instagram.com/accounts/login/')\n",
    "    time.sleep(5)\n",
    "\n",
    "    username_input = driver.find_element(By.NAME, 'username')\n",
    "    password_input = driver.find_element(By.NAME, 'password')\n",
    "    username_input.send_keys(username)\n",
    "    password_input.send_keys(password)\n",
    "    password_input.send_keys(Keys.RETURN)\n",
    "\n",
    "    time.sleep(10)  # 로그인 처리 대기"
   ]
  },
  {
   "cell_type": "code",
   "execution_count": 10,
   "metadata": {},
   "outputs": [],
   "source": [
    "# 팔로워 리스트 가져오기\n",
    "def get_followers(driver, target_username):\n",
    "    driver.get(f'https://www.instagram.com/{target_username}/followers/')\n",
    "    time.sleep(3)\n",
    "\n",
    "    followers = set()\n",
    "    scroll_box = driver.find_element(By.XPATH, \"/html/body/div[2]/div/div/div[2]\")\n",
    "    last_height, height = 0, 1\n",
    "    while last_height != height:\n",
    "        last_height = height\n",
    "        time.sleep(2)\n",
    "        height = driver.execute_script(\"arguments[0].scrollTop = arguments[0].scrollHeight; return arguments[0].scrollHeight;\", scroll_box)\n",
    "        links = scroll_box.find_elements(By.TAG_NAME, 'a')\n",
    "        followers.update([link.text for link in links if link.text != ''])\n",
    "\n",
    "    return followers"
   ]
  },
  {
   "cell_type": "code",
   "execution_count": 11,
   "metadata": {},
   "outputs": [],
   "source": [
    "# 팔로잉 리스트 가져오기\n",
    "def get_following(driver, target_username):\n",
    "    driver.get(f'https://www.instagram.com/{target_username}/following/')\n",
    "    time.sleep(3)\n",
    "\n",
    "    following = set()\n",
    "    scroll_box = driver.find_element(By.XPATH, \"/html/body/div[2]/div/div/div[2]\")\n",
    "    last_height, height = 0, 1\n",
    "    while last_height != height:\n",
    "        last_height = height\n",
    "        time.sleep(2)\n",
    "        height = driver.execute_script(\"arguments[0].scrollTop = arguments[0].scrollHeight; return arguments[0].scrollHeight;\", scroll_box)\n",
    "        links = scroll_box.find_elements(By.TAG_NAME, 'a')\n",
    "        following.update([link.text for link in links if link.text != ''])\n",
    "\n",
    "    return following"
   ]
  },
  {
   "cell_type": "code",
   "execution_count": 12,
   "metadata": {},
   "outputs": [],
   "source": [
    "# 맞팔로우하지 않는 사용자 출력\n",
    "def find_non_followers(username, password, target_username):\n",
    "    driver = webdriver.Chrome()\n",
    "    try:\n",
    "        instagram_login(driver, username, password)\n",
    "        followers = get_followers(driver, target_username)\n",
    "        following = get_following(driver, target_username)\n",
    "\n",
    "        not_following_back = following - followers\n",
    "        print(f\"{target_username}의 맞팔로우하지 않는 사용자:\")\n",
    "        for user in not_following_back:\n",
    "            print(user)\n",
    "    finally:\n",
    "        driver.quit()"
   ]
  },
  {
   "cell_type": "code",
   "execution_count": 13,
   "metadata": {},
   "outputs": [],
   "source": [
    "# 맞팔로우하지 않는 사용자 출력\n",
    "def find_non_followers(username, password, target_username):\n",
    "    driver = webdriver.Chrome()\n",
    "    try:\n",
    "        instagram_login(driver, username, password)\n",
    "        followers = get_followers(driver, target_username)\n",
    "        following = get_following(driver, target_username)\n",
    "\n",
    "        not_following_back = following - followers\n",
    "        print(f\"{target_username}의 맞팔로우하지 않는 사용자:\")\n",
    "        for user in not_following_back:\n",
    "            print(user)\n",
    "    finally:\n",
    "        driver.quit()"
   ]
  },
  {
   "cell_type": "code",
   "execution_count": 20,
   "metadata": {},
   "outputs": [
    {
     "ename": "NoSuchWindowException",
     "evalue": "Message: no such window: target window already closed\nfrom unknown error: web view not found\n  (Session info: chrome=129.0.6668.90)\nStacktrace:\n\tGetHandleVerifier [0x00007FF7C797B095+29557]\n\t(No symbol) [0x00007FF7C78EFA50]\n\t(No symbol) [0x00007FF7C77AB56A]\n\t(No symbol) [0x00007FF7C777FCC5]\n\t(No symbol) [0x00007FF7C782EE07]\n\t(No symbol) [0x00007FF7C7847E21]\n\t(No symbol) [0x00007FF7C7826F33]\n\t(No symbol) [0x00007FF7C77F116F]\n\t(No symbol) [0x00007FF7C77F22D1]\n\tGetHandleVerifier [0x00007FF7C7CAC96D+3378253]\n\tGetHandleVerifier [0x00007FF7C7CF8497+3688311]\n\tGetHandleVerifier [0x00007FF7C7CED1CB+3642539]\n\tGetHandleVerifier [0x00007FF7C7A3A6B6+813462]\n\t(No symbol) [0x00007FF7C78FAB5F]\n\t(No symbol) [0x00007FF7C78F6B74]\n\t(No symbol) [0x00007FF7C78F6D10]\n\t(No symbol) [0x00007FF7C78E5C1F]\n\tBaseThreadInitThunk [0x00007FF94A28257D+29]\n\tRtlUserThreadStart [0x00007FF94BA4AF08+40]\n",
     "output_type": "error",
     "traceback": [
      "\u001b[1;31m---------------------------------------------------------------------------\u001b[0m",
      "\u001b[1;31mNoSuchWindowException\u001b[0m                     Traceback (most recent call last)",
      "Cell \u001b[1;32mIn[20], line 7\u001b[0m\n\u001b[0;32m      5\u001b[0m time\u001b[38;5;241m.\u001b[39msleep(\u001b[38;5;241m20\u001b[39m)\n\u001b[0;32m      6\u001b[0m target_username \u001b[38;5;241m=\u001b[39m \u001b[38;5;28minput\u001b[39m(\u001b[38;5;124m\"\u001b[39m\u001b[38;5;124m확인하고 싶은 사용자 아이디: \u001b[39m\u001b[38;5;124m\"\u001b[39m)\n\u001b[1;32m----> 7\u001b[0m \u001b[43mfind_non_followers\u001b[49m\u001b[43m(\u001b[49m\u001b[43minstagram_username\u001b[49m\u001b[43m,\u001b[49m\u001b[43m \u001b[49m\u001b[43minstagram_password\u001b[49m\u001b[43m,\u001b[49m\u001b[43m \u001b[49m\u001b[43mtarget_username\u001b[49m\u001b[43m)\u001b[49m\n",
      "Cell \u001b[1;32mIn[13], line 6\u001b[0m, in \u001b[0;36mfind_non_followers\u001b[1;34m(username, password, target_username)\u001b[0m\n\u001b[0;32m      4\u001b[0m \u001b[38;5;28;01mtry\u001b[39;00m:\n\u001b[0;32m      5\u001b[0m     instagram_login(driver, username, password)\n\u001b[1;32m----> 6\u001b[0m     followers \u001b[38;5;241m=\u001b[39m \u001b[43mget_followers\u001b[49m\u001b[43m(\u001b[49m\u001b[43mdriver\u001b[49m\u001b[43m,\u001b[49m\u001b[43m \u001b[49m\u001b[43mtarget_username\u001b[49m\u001b[43m)\u001b[49m\n\u001b[0;32m      7\u001b[0m     following \u001b[38;5;241m=\u001b[39m get_following(driver, target_username)\n\u001b[0;32m      9\u001b[0m     not_following_back \u001b[38;5;241m=\u001b[39m following \u001b[38;5;241m-\u001b[39m followers\n",
      "Cell \u001b[1;32mIn[10], line 3\u001b[0m, in \u001b[0;36mget_followers\u001b[1;34m(driver, target_username)\u001b[0m\n\u001b[0;32m      2\u001b[0m \u001b[38;5;28;01mdef\u001b[39;00m \u001b[38;5;21mget_followers\u001b[39m(driver, target_username):\n\u001b[1;32m----> 3\u001b[0m     \u001b[43mdriver\u001b[49m\u001b[38;5;241;43m.\u001b[39;49m\u001b[43mget\u001b[49m\u001b[43m(\u001b[49m\u001b[38;5;124;43mf\u001b[39;49m\u001b[38;5;124;43m'\u001b[39;49m\u001b[38;5;124;43mhttps://www.instagram.com/\u001b[39;49m\u001b[38;5;132;43;01m{\u001b[39;49;00m\u001b[43mtarget_username\u001b[49m\u001b[38;5;132;43;01m}\u001b[39;49;00m\u001b[38;5;124;43m/followers/\u001b[39;49m\u001b[38;5;124;43m'\u001b[39;49m\u001b[43m)\u001b[49m\n\u001b[0;32m      4\u001b[0m     time\u001b[38;5;241m.\u001b[39msleep(\u001b[38;5;241m3\u001b[39m)\n\u001b[0;32m      6\u001b[0m     followers \u001b[38;5;241m=\u001b[39m \u001b[38;5;28mset\u001b[39m()\n",
      "File \u001b[1;32m~\\AppData\\Local\\Packages\\PythonSoftwareFoundation.Python.3.12_qbz5n2kfra8p0\\LocalCache\\local-packages\\Python312\\site-packages\\selenium\\webdriver\\remote\\webdriver.py:363\u001b[0m, in \u001b[0;36mWebDriver.get\u001b[1;34m(self, url)\u001b[0m\n\u001b[0;32m    361\u001b[0m \u001b[38;5;28;01mdef\u001b[39;00m \u001b[38;5;21mget\u001b[39m(\u001b[38;5;28mself\u001b[39m, url: \u001b[38;5;28mstr\u001b[39m) \u001b[38;5;241m-\u001b[39m\u001b[38;5;241m>\u001b[39m \u001b[38;5;28;01mNone\u001b[39;00m:\n\u001b[0;32m    362\u001b[0m \u001b[38;5;250m    \u001b[39m\u001b[38;5;124;03m\"\"\"Loads a web page in the current browser session.\"\"\"\u001b[39;00m\n\u001b[1;32m--> 363\u001b[0m     \u001b[38;5;28;43mself\u001b[39;49m\u001b[38;5;241;43m.\u001b[39;49m\u001b[43mexecute\u001b[49m\u001b[43m(\u001b[49m\u001b[43mCommand\u001b[49m\u001b[38;5;241;43m.\u001b[39;49m\u001b[43mGET\u001b[49m\u001b[43m,\u001b[49m\u001b[43m \u001b[49m\u001b[43m{\u001b[49m\u001b[38;5;124;43m\"\u001b[39;49m\u001b[38;5;124;43murl\u001b[39;49m\u001b[38;5;124;43m\"\u001b[39;49m\u001b[43m:\u001b[49m\u001b[43m \u001b[49m\u001b[43murl\u001b[49m\u001b[43m}\u001b[49m\u001b[43m)\u001b[49m\n",
      "File \u001b[1;32m~\\AppData\\Local\\Packages\\PythonSoftwareFoundation.Python.3.12_qbz5n2kfra8p0\\LocalCache\\local-packages\\Python312\\site-packages\\selenium\\webdriver\\remote\\webdriver.py:354\u001b[0m, in \u001b[0;36mWebDriver.execute\u001b[1;34m(self, driver_command, params)\u001b[0m\n\u001b[0;32m    352\u001b[0m response \u001b[38;5;241m=\u001b[39m \u001b[38;5;28mself\u001b[39m\u001b[38;5;241m.\u001b[39mcommand_executor\u001b[38;5;241m.\u001b[39mexecute(driver_command, params)\n\u001b[0;32m    353\u001b[0m \u001b[38;5;28;01mif\u001b[39;00m response:\n\u001b[1;32m--> 354\u001b[0m     \u001b[38;5;28;43mself\u001b[39;49m\u001b[38;5;241;43m.\u001b[39;49m\u001b[43merror_handler\u001b[49m\u001b[38;5;241;43m.\u001b[39;49m\u001b[43mcheck_response\u001b[49m\u001b[43m(\u001b[49m\u001b[43mresponse\u001b[49m\u001b[43m)\u001b[49m\n\u001b[0;32m    355\u001b[0m     response[\u001b[38;5;124m\"\u001b[39m\u001b[38;5;124mvalue\u001b[39m\u001b[38;5;124m\"\u001b[39m] \u001b[38;5;241m=\u001b[39m \u001b[38;5;28mself\u001b[39m\u001b[38;5;241m.\u001b[39m_unwrap_value(response\u001b[38;5;241m.\u001b[39mget(\u001b[38;5;124m\"\u001b[39m\u001b[38;5;124mvalue\u001b[39m\u001b[38;5;124m\"\u001b[39m, \u001b[38;5;28;01mNone\u001b[39;00m))\n\u001b[0;32m    356\u001b[0m     \u001b[38;5;28;01mreturn\u001b[39;00m response\n",
      "File \u001b[1;32m~\\AppData\\Local\\Packages\\PythonSoftwareFoundation.Python.3.12_qbz5n2kfra8p0\\LocalCache\\local-packages\\Python312\\site-packages\\selenium\\webdriver\\remote\\errorhandler.py:229\u001b[0m, in \u001b[0;36mErrorHandler.check_response\u001b[1;34m(self, response)\u001b[0m\n\u001b[0;32m    227\u001b[0m         alert_text \u001b[38;5;241m=\u001b[39m value[\u001b[38;5;124m\"\u001b[39m\u001b[38;5;124malert\u001b[39m\u001b[38;5;124m\"\u001b[39m]\u001b[38;5;241m.\u001b[39mget(\u001b[38;5;124m\"\u001b[39m\u001b[38;5;124mtext\u001b[39m\u001b[38;5;124m\"\u001b[39m)\n\u001b[0;32m    228\u001b[0m     \u001b[38;5;28;01mraise\u001b[39;00m exception_class(message, screen, stacktrace, alert_text)  \u001b[38;5;66;03m# type: ignore[call-arg]  # mypy is not smart enough here\u001b[39;00m\n\u001b[1;32m--> 229\u001b[0m \u001b[38;5;28;01mraise\u001b[39;00m exception_class(message, screen, stacktrace)\n",
      "\u001b[1;31mNoSuchWindowException\u001b[0m: Message: no such window: target window already closed\nfrom unknown error: web view not found\n  (Session info: chrome=129.0.6668.90)\nStacktrace:\n\tGetHandleVerifier [0x00007FF7C797B095+29557]\n\t(No symbol) [0x00007FF7C78EFA50]\n\t(No symbol) [0x00007FF7C77AB56A]\n\t(No symbol) [0x00007FF7C777FCC5]\n\t(No symbol) [0x00007FF7C782EE07]\n\t(No symbol) [0x00007FF7C7847E21]\n\t(No symbol) [0x00007FF7C7826F33]\n\t(No symbol) [0x00007FF7C77F116F]\n\t(No symbol) [0x00007FF7C77F22D1]\n\tGetHandleVerifier [0x00007FF7C7CAC96D+3378253]\n\tGetHandleVerifier [0x00007FF7C7CF8497+3688311]\n\tGetHandleVerifier [0x00007FF7C7CED1CB+3642539]\n\tGetHandleVerifier [0x00007FF7C7A3A6B6+813462]\n\t(No symbol) [0x00007FF7C78FAB5F]\n\t(No symbol) [0x00007FF7C78F6B74]\n\t(No symbol) [0x00007FF7C78F6D10]\n\t(No symbol) [0x00007FF7C78E5C1F]\n\tBaseThreadInitThunk [0x00007FF94A28257D+29]\n\tRtlUserThreadStart [0x00007FF94BA4AF08+40]\n"
     ]
    }
   ],
   "source": [
    "# 사용자 인풋 받기\n",
    "if __name__ == \"__main__\":\n",
    "    time.sleep(5)\n",
    "    instagram_username = input(\"인스타그램 아이디: \")\n",
    "    instagram_password = input(\"인스타그램 비밀번호: \")\n",
    "    time.sleep(10)\n",
    "    target_username = input(\"확인하고 싶은 사용자 아이디: \")\n",
    "    find_non_followers(instagram_username, instagram_password, target_username)"
   ]
  },
  {
   "cell_type": "code",
   "execution_count": 39,
   "metadata": {},
   "outputs": [
    {
     "ename": "NoSuchElementException",
     "evalue": "Message: no such element: Unable to locate element: {\"method\":\"xpath\",\"selector\":\"/html/body/div[2]/div/div/div[2]\"}\n  (Session info: chrome=129.0.6668.90); For documentation on this error, please visit: https://www.selenium.dev/documentation/webdriver/troubleshooting/errors#no-such-element-exception\nStacktrace:\n\tGetHandleVerifier [0x00007FF7C797B095+29557]\n\t(No symbol) [0x00007FF7C78EFA50]\n\t(No symbol) [0x00007FF7C77AB56A]\n\t(No symbol) [0x00007FF7C77FF695]\n\t(No symbol) [0x00007FF7C77FF8EC]\n\t(No symbol) [0x00007FF7C784B777]\n\t(No symbol) [0x00007FF7C78271CF]\n\t(No symbol) [0x00007FF7C784851C]\n\t(No symbol) [0x00007FF7C7826F33]\n\t(No symbol) [0x00007FF7C77F116F]\n\t(No symbol) [0x00007FF7C77F22D1]\n\tGetHandleVerifier [0x00007FF7C7CAC96D+3378253]\n\tGetHandleVerifier [0x00007FF7C7CF8497+3688311]\n\tGetHandleVerifier [0x00007FF7C7CED1CB+3642539]\n\tGetHandleVerifier [0x00007FF7C7A3A6B6+813462]\n\t(No symbol) [0x00007FF7C78FAB5F]\n\t(No symbol) [0x00007FF7C78F6B74]\n\t(No symbol) [0x00007FF7C78F6D10]\n\t(No symbol) [0x00007FF7C78E5C1F]\n\tBaseThreadInitThunk [0x00007FF94A28257D+29]\n\tRtlUserThreadStart [0x00007FF94BA4AF08+40]\n",
     "output_type": "error",
     "traceback": [
      "\u001b[1;31m---------------------------------------------------------------------------\u001b[0m",
      "\u001b[1;31mNoSuchElementException\u001b[0m                    Traceback (most recent call last)",
      "Cell \u001b[1;32mIn[39], line 6\u001b[0m\n\u001b[0;32m      4\u001b[0m instagram_password \u001b[38;5;241m=\u001b[39m \u001b[38;5;124m\"\u001b[39m\u001b[38;5;124mrjsQkdaos3664!\u001b[39m\u001b[38;5;124m\"\u001b[39m\n\u001b[0;32m      5\u001b[0m target_username \u001b[38;5;241m=\u001b[39m \u001b[38;5;124m\"\u001b[39m\u001b[38;5;124mzeta_gav\u001b[39m\u001b[38;5;124m\"\u001b[39m\n\u001b[1;32m----> 6\u001b[0m \u001b[43mfind_non_followers\u001b[49m\u001b[43m(\u001b[49m\u001b[43minstagram_username\u001b[49m\u001b[43m,\u001b[49m\u001b[43m \u001b[49m\u001b[43minstagram_password\u001b[49m\u001b[43m,\u001b[49m\u001b[43m \u001b[49m\u001b[43mtarget_username\u001b[49m\u001b[43m)\u001b[49m\n",
      "Cell \u001b[1;32mIn[13], line 6\u001b[0m, in \u001b[0;36mfind_non_followers\u001b[1;34m(username, password, target_username)\u001b[0m\n\u001b[0;32m      4\u001b[0m \u001b[38;5;28;01mtry\u001b[39;00m:\n\u001b[0;32m      5\u001b[0m     instagram_login(driver, username, password)\n\u001b[1;32m----> 6\u001b[0m     followers \u001b[38;5;241m=\u001b[39m \u001b[43mget_followers\u001b[49m\u001b[43m(\u001b[49m\u001b[43mdriver\u001b[49m\u001b[43m,\u001b[49m\u001b[43m \u001b[49m\u001b[43mtarget_username\u001b[49m\u001b[43m)\u001b[49m\n\u001b[0;32m      7\u001b[0m     following \u001b[38;5;241m=\u001b[39m get_following(driver, target_username)\n\u001b[0;32m      9\u001b[0m     not_following_back \u001b[38;5;241m=\u001b[39m following \u001b[38;5;241m-\u001b[39m followers\n",
      "Cell \u001b[1;32mIn[10], line 7\u001b[0m, in \u001b[0;36mget_followers\u001b[1;34m(driver, target_username)\u001b[0m\n\u001b[0;32m      4\u001b[0m time\u001b[38;5;241m.\u001b[39msleep(\u001b[38;5;241m3\u001b[39m)\n\u001b[0;32m      6\u001b[0m followers \u001b[38;5;241m=\u001b[39m \u001b[38;5;28mset\u001b[39m()\n\u001b[1;32m----> 7\u001b[0m scroll_box \u001b[38;5;241m=\u001b[39m \u001b[43mdriver\u001b[49m\u001b[38;5;241;43m.\u001b[39;49m\u001b[43mfind_element\u001b[49m\u001b[43m(\u001b[49m\u001b[43mBy\u001b[49m\u001b[38;5;241;43m.\u001b[39;49m\u001b[43mXPATH\u001b[49m\u001b[43m,\u001b[49m\u001b[43m \u001b[49m\u001b[38;5;124;43m\"\u001b[39;49m\u001b[38;5;124;43m/html/body/div[2]/div/div/div[2]\u001b[39;49m\u001b[38;5;124;43m\"\u001b[39;49m\u001b[43m)\u001b[49m\n\u001b[0;32m      8\u001b[0m last_height, height \u001b[38;5;241m=\u001b[39m \u001b[38;5;241m0\u001b[39m, \u001b[38;5;241m1\u001b[39m\n\u001b[0;32m      9\u001b[0m \u001b[38;5;28;01mwhile\u001b[39;00m last_height \u001b[38;5;241m!=\u001b[39m height:\n",
      "File \u001b[1;32m~\\AppData\\Local\\Packages\\PythonSoftwareFoundation.Python.3.12_qbz5n2kfra8p0\\LocalCache\\local-packages\\Python312\\site-packages\\selenium\\webdriver\\remote\\webdriver.py:748\u001b[0m, in \u001b[0;36mWebDriver.find_element\u001b[1;34m(self, by, value)\u001b[0m\n\u001b[0;32m    745\u001b[0m     by \u001b[38;5;241m=\u001b[39m By\u001b[38;5;241m.\u001b[39mCSS_SELECTOR\n\u001b[0;32m    746\u001b[0m     value \u001b[38;5;241m=\u001b[39m \u001b[38;5;124mf\u001b[39m\u001b[38;5;124m'\u001b[39m\u001b[38;5;124m[name=\u001b[39m\u001b[38;5;124m\"\u001b[39m\u001b[38;5;132;01m{\u001b[39;00mvalue\u001b[38;5;132;01m}\u001b[39;00m\u001b[38;5;124m\"\u001b[39m\u001b[38;5;124m]\u001b[39m\u001b[38;5;124m'\u001b[39m\n\u001b[1;32m--> 748\u001b[0m \u001b[38;5;28;01mreturn\u001b[39;00m \u001b[38;5;28;43mself\u001b[39;49m\u001b[38;5;241;43m.\u001b[39;49m\u001b[43mexecute\u001b[49m\u001b[43m(\u001b[49m\u001b[43mCommand\u001b[49m\u001b[38;5;241;43m.\u001b[39;49m\u001b[43mFIND_ELEMENT\u001b[49m\u001b[43m,\u001b[49m\u001b[43m \u001b[49m\u001b[43m{\u001b[49m\u001b[38;5;124;43m\"\u001b[39;49m\u001b[38;5;124;43musing\u001b[39;49m\u001b[38;5;124;43m\"\u001b[39;49m\u001b[43m:\u001b[49m\u001b[43m \u001b[49m\u001b[43mby\u001b[49m\u001b[43m,\u001b[49m\u001b[43m \u001b[49m\u001b[38;5;124;43m\"\u001b[39;49m\u001b[38;5;124;43mvalue\u001b[39;49m\u001b[38;5;124;43m\"\u001b[39;49m\u001b[43m:\u001b[49m\u001b[43m \u001b[49m\u001b[43mvalue\u001b[49m\u001b[43m}\u001b[49m\u001b[43m)\u001b[49m[\u001b[38;5;124m\"\u001b[39m\u001b[38;5;124mvalue\u001b[39m\u001b[38;5;124m\"\u001b[39m]\n",
      "File \u001b[1;32m~\\AppData\\Local\\Packages\\PythonSoftwareFoundation.Python.3.12_qbz5n2kfra8p0\\LocalCache\\local-packages\\Python312\\site-packages\\selenium\\webdriver\\remote\\webdriver.py:354\u001b[0m, in \u001b[0;36mWebDriver.execute\u001b[1;34m(self, driver_command, params)\u001b[0m\n\u001b[0;32m    352\u001b[0m response \u001b[38;5;241m=\u001b[39m \u001b[38;5;28mself\u001b[39m\u001b[38;5;241m.\u001b[39mcommand_executor\u001b[38;5;241m.\u001b[39mexecute(driver_command, params)\n\u001b[0;32m    353\u001b[0m \u001b[38;5;28;01mif\u001b[39;00m response:\n\u001b[1;32m--> 354\u001b[0m     \u001b[38;5;28;43mself\u001b[39;49m\u001b[38;5;241;43m.\u001b[39;49m\u001b[43merror_handler\u001b[49m\u001b[38;5;241;43m.\u001b[39;49m\u001b[43mcheck_response\u001b[49m\u001b[43m(\u001b[49m\u001b[43mresponse\u001b[49m\u001b[43m)\u001b[49m\n\u001b[0;32m    355\u001b[0m     response[\u001b[38;5;124m\"\u001b[39m\u001b[38;5;124mvalue\u001b[39m\u001b[38;5;124m\"\u001b[39m] \u001b[38;5;241m=\u001b[39m \u001b[38;5;28mself\u001b[39m\u001b[38;5;241m.\u001b[39m_unwrap_value(response\u001b[38;5;241m.\u001b[39mget(\u001b[38;5;124m\"\u001b[39m\u001b[38;5;124mvalue\u001b[39m\u001b[38;5;124m\"\u001b[39m, \u001b[38;5;28;01mNone\u001b[39;00m))\n\u001b[0;32m    356\u001b[0m     \u001b[38;5;28;01mreturn\u001b[39;00m response\n",
      "File \u001b[1;32m~\\AppData\\Local\\Packages\\PythonSoftwareFoundation.Python.3.12_qbz5n2kfra8p0\\LocalCache\\local-packages\\Python312\\site-packages\\selenium\\webdriver\\remote\\errorhandler.py:229\u001b[0m, in \u001b[0;36mErrorHandler.check_response\u001b[1;34m(self, response)\u001b[0m\n\u001b[0;32m    227\u001b[0m         alert_text \u001b[38;5;241m=\u001b[39m value[\u001b[38;5;124m\"\u001b[39m\u001b[38;5;124malert\u001b[39m\u001b[38;5;124m\"\u001b[39m]\u001b[38;5;241m.\u001b[39mget(\u001b[38;5;124m\"\u001b[39m\u001b[38;5;124mtext\u001b[39m\u001b[38;5;124m\"\u001b[39m)\n\u001b[0;32m    228\u001b[0m     \u001b[38;5;28;01mraise\u001b[39;00m exception_class(message, screen, stacktrace, alert_text)  \u001b[38;5;66;03m# type: ignore[call-arg]  # mypy is not smart enough here\u001b[39;00m\n\u001b[1;32m--> 229\u001b[0m \u001b[38;5;28;01mraise\u001b[39;00m exception_class(message, screen, stacktrace)\n",
      "\u001b[1;31mNoSuchElementException\u001b[0m: Message: no such element: Unable to locate element: {\"method\":\"xpath\",\"selector\":\"/html/body/div[2]/div/div/div[2]\"}\n  (Session info: chrome=129.0.6668.90); For documentation on this error, please visit: https://www.selenium.dev/documentation/webdriver/troubleshooting/errors#no-such-element-exception\nStacktrace:\n\tGetHandleVerifier [0x00007FF7C797B095+29557]\n\t(No symbol) [0x00007FF7C78EFA50]\n\t(No symbol) [0x00007FF7C77AB56A]\n\t(No symbol) [0x00007FF7C77FF695]\n\t(No symbol) [0x00007FF7C77FF8EC]\n\t(No symbol) [0x00007FF7C784B777]\n\t(No symbol) [0x00007FF7C78271CF]\n\t(No symbol) [0x00007FF7C784851C]\n\t(No symbol) [0x00007FF7C7826F33]\n\t(No symbol) [0x00007FF7C77F116F]\n\t(No symbol) [0x00007FF7C77F22D1]\n\tGetHandleVerifier [0x00007FF7C7CAC96D+3378253]\n\tGetHandleVerifier [0x00007FF7C7CF8497+3688311]\n\tGetHandleVerifier [0x00007FF7C7CED1CB+3642539]\n\tGetHandleVerifier [0x00007FF7C7A3A6B6+813462]\n\t(No symbol) [0x00007FF7C78FAB5F]\n\t(No symbol) [0x00007FF7C78F6B74]\n\t(No symbol) [0x00007FF7C78F6D10]\n\t(No symbol) [0x00007FF7C78E5C1F]\n\tBaseThreadInitThunk [0x00007FF94A28257D+29]\n\tRtlUserThreadStart [0x00007FF94BA4AF08+40]\n"
     ]
    }
   ],
   "source": [
    "# 사용자 인풋 받기\n",
    "if __name__ == \"__main__\":\n",
    "    instagram_username = \"is04133333@gmail.com\"\n",
    "    instagram_password = \"rjsQkdaos3664!\"\n",
    "    target_username = \"zeta_gav\"\n",
    "    find_non_followers(instagram_username, instagram_password, target_username)"
   ]
  },
  {
   "cell_type": "code",
   "execution_count": null,
   "metadata": {},
   "outputs": [],
   "source": []
  }
 ],
 "metadata": {
  "kernelspec": {
   "display_name": "Python 3",
   "language": "python",
   "name": "python3"
  },
  "language_info": {
   "codemirror_mode": {
    "name": "ipython",
    "version": 3
   },
   "file_extension": ".py",
   "mimetype": "text/x-python",
   "name": "python",
   "nbconvert_exporter": "python",
   "pygments_lexer": "ipython3",
   "version": "3.12.7"
  }
 },
 "nbformat": 4,
 "nbformat_minor": 2
}
